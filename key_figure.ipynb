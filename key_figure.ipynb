{
 "cells": [
  {
   "cell_type": "markdown",
   "metadata": {},
   "source": [
    "# **ICESat-2 detected active subglacial lakes**\n",
    "\n",
    "Making pretty maps of active subglacial lakes in Antarctica,\n",
    "a companion jupyter notebook to https://github.com/weiji14/deepicedrain.\n",
    "Uses [PyGMT](https://www.pygmt.org) for illustration,\n",
    "heavily inspired by https://github.com/mrsiegfried/Venturelli2020-GRL"
   ]
  },
  {
   "cell_type": "code",
   "execution_count": null,
   "metadata": {},
   "outputs": [],
   "source": [
    "import os\n",
    "import re\n",
    "\n",
    "import geopandas as gpd\n",
    "import numpy as np\n",
    "import pandas as pd\n",
    "import pooch\n",
    "import pygmt"
   ]
  },
  {
   "cell_type": "markdown",
   "metadata": {},
   "source": [
    "# Get data files\n",
    "\n",
    "Data for background basemaps:\n",
    "\n",
    "- Haran, T. M., Bohlander, J., Scambos, T. A., Painter, T. H., & Fahnestock, M. A. (2014). MODIS Mosaic of Antarctica 2008-2009 (MOA2009) Image Map. U.S. Antarctic Program Data Center (USAP-DC), via National Snow and Ice Data Center (NSIDC). https://doi.org/10.7265/N5KP8037\n",
    "- Depoorter, M. A., Bamber, J. L., Griggs, J. A., Lenaerts, J. T. M., Ligtenberg, S. R. M., van den Broeke, M. R., & Moholdt, G. (2013). Antarctic masks (ice-shelves, ice-sheet, and islands), link to shape file (p. 15.8 MBytes) [Application/zip]. PANGAEA - Data Publisher for Earth & Environmental Science. https://doi.org/10.1594/PANGAEA.819147\n",
    "- Mouginot, J., Rignot, E., & Scheuchl, B. (2019). MEaSUREs Phase Map of Antarctic Ice Velocity, Version 1 [Data set]. NASA National Snow and Ice Data Center DAAC. https://doi.org/10.5067/PZ3NJ5RXRH10"
   ]
  },
  {
   "cell_type": "code",
   "execution_count": null,
   "metadata": {},
   "outputs": [],
   "source": [
    "# Using Quantarctica3 from https://www.npolar.no/quantarctica/\n",
    "datafold: str = os.getenv(\"DATAHOME\") or os.path.abspath(\"Quantarctica3\")\n",
    "os.makedirs(name=datafold, exist_ok=True)"
   ]
  },
  {
   "cell_type": "code",
   "execution_count": null,
   "metadata": {},
   "outputs": [],
   "source": [
    "# MODIS Mosaic of Antarctica\n",
    "moa_no_nan: str = pooch.retrieve(\n",
    "    url=\"ftp://ftp.nsidc.org/pub/DATASETS/nsidc0593_moa2009/geotiff/moa750_2009_hp1_v01.1.tif.gz\",\n",
    "    known_hash=\"90d1718ea0971795ec102482c47f308ba08ba2b88383facb9fe210877e80282c\",\n",
    "    path=f\"{datafold}/SatelliteImagery/MODIS\",\n",
    "    processor=pooch.Decompress(name=\"moa750_2009_hp1_v1.1.tif\"),\n",
    ")\n",
    "moa = f\"{datafold}/SatelliteImagery/MODIS/moa750_2009_hp1_v01.1.tif\"\n",
    "try:\n",
    "    assert os.path.exists(path=moa)\n",
    "except AssertionError:\n",
    "    with pygmt.clib.Session() as lib:\n",
    "        # !gmt grdmath $moa_no_nan 0 NAN = $moa\n",
    "        lib.call_module(module=\"grdmath\", args=f\"{moa_no_nan} 0 NAN = {moa}\")"
   ]
  },
  {
   "cell_type": "code",
   "execution_count": null,
   "metadata": {},
   "outputs": [],
   "source": [
    "# Scripps Grounding Line\n",
    "shapefiles: list = pooch.retrieve(\n",
    "    url=\"https://epic.awi.de/id/eprint/33781/1/Antarctica_masks.zip\",\n",
    "    known_hash=\"e4c5918240e334680aed1329f109527efd8f43b6a277bb8e77b66f84f8c16619\",\n",
    "    fname=\"groundingline\",\n",
    "    path=f\"{datafold}/Miscellaneous/ScrippsGroundingLine\",\n",
    "    processor=pooch.Unzip(),\n",
    ")\n",
    "groundingline: str = [file for file in shapefiles if file.endswith(\".shp\")][0]"
   ]
  },
  {
   "cell_type": "code",
   "execution_count": null,
   "metadata": {},
   "outputs": [],
   "source": [
    "# MEaSUREs Phase Map of Antarctic Ice Velocity\n",
    "vel_file = f\"{datafold}/Glaciology/MEaSUREs_PhaseBased_Velocity/antarctic_ice_vel_phase_map_v01\"\n",
    "vel: str = f\"{vel_file}-vmag.nc\"\n",
    "try:\n",
    "    assert os.path.exists(vel)\n",
    "except AssertionError:\n",
    "    # Note, download require a .netrc file containing 'machine urs.earthdata.nasa.gov login <uid> password <password>'\n",
    "    # see https://nsidc.org/support/how/how-do-i-programmatically-access-data-spatial-temporal\n",
    "    try:\n",
    "        # Run processing of velocity magnitude grid locally\n",
    "        vel_file: str = pooch.retrieve(\n",
    "            url=\"https://n5eil01u.ecs.nsidc.org/MEASURES/NSIDC-0754.001/1996.01.01/antarctic_ice_vel_phase_map_v01.nc\",\n",
    "            known_hash=\"fa0957618b8bd98099f4a419d7dc0e3a2c562d89e9791b4d0ed55e6017f52416\",\n",
    "            fname=\"antarctic_ice_vel_phase_map_v01.nc\",\n",
    "            path=f\"{datafold}/Glaciology/MEaSUREs_PhaseBased_Velocity\",\n",
    "        )\n",
    "        with pygmt.clib.Session() as lib:\n",
    "            #! gmt grdmath ${vel_file}.nc?VX 2 POW ${vel_file}.nc?VY 2 POW POW 0.5 = ${vel_file}-vmag.nc\n",
    "            lib.call_module(\n",
    "                module=\"grdmath\",\n",
    "                args=f\"{vel_file}.nc?VX 2 POW {vel_file}.nc?VY 2 POW POW 0.5 = {vel}\",\n",
    "            )\n",
    "    except:\n",
    "        # Just download pre-processed velocity magnitude grid from GitHub\n",
    "        vel: str = pooch.retrieve(\n",
    "            url=\"https://github.com/weiji14/nzasc2021/releases/download/v0.0.0/antarctic_ice_vel_phase_map_v01-vmag.nc\",\n",
    "            known_hash=\"ed6393275d8d8475c2162a838d6b9220cd529d28a2b5d674a6bf6dbda4971049\",\n",
    "            fname=\"antarctic_ice_vel_phase_map_v01-vmag.nc\",\n",
    "            path=f\"{datafold}/Glaciology/MEaSUREs_PhaseBased_Velocity\",\n",
    "        )"
   ]
  },
  {
   "cell_type": "code",
   "execution_count": null,
   "metadata": {
    "lines_to_next_cell": 2
   },
   "outputs": [],
   "source": [
    "# DeepIceDrain active subglacial lake outlines\n",
    "lakes = \"https://raw.githubusercontent.com/weiji14/deepicedrain/v0.4.0/antarctic_subglacial_lakes_3031.geojson\"\n",
    "lakes = \"https://github.com/weiji14/deepicedrain/blob/6bbd5831b2fa9bfaf69732aaad6fa6822e02a8d0/antarctic_subglacial_lakes_3031.geojson\""
   ]
  },
  {
   "cell_type": "markdown",
   "metadata": {},
   "source": [
    "### Make color maps\n",
    "\n",
    "For MOA and ice velocity and vertical elevation trend (dhdt).\n",
    "Scientific color maps are from http://doi.org/10.5281/zenodo.1243862"
   ]
  },
  {
   "cell_type": "code",
   "execution_count": null,
   "metadata": {},
   "outputs": [],
   "source": [
    "pygmt.makecpt(\n",
    "    series=[15000, 17000, 1],\n",
    "    cmap=\"grayC\",\n",
    "    continuous=True,\n",
    "    output=\"cmap_moa.cpt\",\n",
    "    reverse=True,\n",
    ")\n",
    "with pygmt.config(COLOR_FOREGROUND=\"240/249/33\", COLOR_BACKGROUND=\"13/8/135\"):\n",
    "    pygmt.makecpt(series=[0, 800, 1], cmap=\"batlow\", output=\"cmap_vel.cpt\")\n",
    "pygmt.makecpt(\n",
    "    cmap=\"berlin\",\n",
    "    series=[-3, 3, 1],\n",
    "    reverse=True,\n",
    "    continuous=True,\n",
    "    output=\"cmap_dhdt.cpt\",\n",
    ")"
   ]
  },
  {
   "cell_type": "code",
   "execution_count": null,
   "metadata": {},
   "outputs": [],
   "source": []
  },
  {
   "cell_type": "markdown",
   "metadata": {},
   "source": [
    "# Figure of Siple Coast active subglacial lakes"
   ]
  },
  {
   "cell_type": "code",
   "execution_count": null,
   "metadata": {},
   "outputs": [],
   "source": [
    "# We're making this a specific height\n",
    "figheight = 115  # in mm\n",
    "\n",
    "# Region in PS71 for main part of the figure\n",
    "sip_xl, sip_xh, sip_yl, sip_yh = sipreg = [-800_000, 25_000, -1_000_000, -400_000]\n",
    "\n",
    "# Calculate the figure width and map scale\n",
    "figwidth = figheight * (sip_xh - sip_xl) / (sip_yh - sip_yl)\n",
    "sipratio = (sip_yh - sip_yl) / (figheight / 1000)\n",
    "\n",
    "# Make a GMT region string and projection strings in both PS71 and Lon/Lat\n",
    "sipreg = [sip_xl, sip_xh, sip_yl, sip_yh]\n",
    "sipproj = f\"x1:{sipratio}\"\n",
    "sipproj_ll = f\"s0/-90/-71/1:{sipratio}\""
   ]
  },
  {
   "cell_type": "code",
   "execution_count": null,
   "metadata": {
    "lines_to_next_cell": 2
   },
   "outputs": [],
   "source": [
    "# Initialize figure and plot MOA as the basemap with ticks every 200 km in xy directions\n",
    "fig = pygmt.Figure()\n",
    "with pygmt.config(MAP_FRAME_TYPE=\"inside\"):\n",
    "    fig.basemap(\n",
    "        region=sipreg, projection=sipproj, frame=[\"nwse\", \"xf200000\", \"yf200000\"]\n",
    "    )\n",
    "    fig.grdimage(grid=moa, cmap=\"cmap_moa.cpt\", nan_transparent=True)\n",
    "\n",
    "# Plot graticules overtop, every 2° latitude and 15° longitude\n",
    "with pygmt.config(\n",
    "    MAP_ANNOT_OFFSET_PRIMARY=\"-2p\",\n",
    "    MAP_FRAME_TYPE=\"inside\",\n",
    "    MAP_ANNOT_OBLIQUE=0,\n",
    "    FONT_ANNOT_PRIMARY=\"8p,grey\",\n",
    "    MAP_GRID_PEN_PRIMARY=\"grey\",\n",
    "    MAP_TICK_LENGTH_PRIMARY=\"-10p\",\n",
    "    MAP_TICK_PEN_PRIMARY=\"thinnest,grey\",\n",
    "    FORMAT_GEO_MAP=\"dddF\",\n",
    "    MAP_POLAR_CAP=\"88/90\",  # less longitude graticules at >88°S\n",
    "):\n",
    "    fig.basemap(\n",
    "        projection=sipproj_ll, region=sipreg, frame=[\"NSWE\", \"xa15g15\", \"ya2g2\"]\n",
    "    )\n",
    "\n",
    "# Plot the grounding line in white\n",
    "fig.plot(data=groundingline, region=sipreg, projection=sipproj, pen=\"0.15p,white\")"
   ]
  },
  {
   "cell_type": "code",
   "execution_count": null,
   "metadata": {
    "lines_to_next_cell": 2
   },
   "outputs": [],
   "source": [
    "# Overlay ice velocity with 70% transparency\n",
    "fig.grdimage(grid=vel, cmap=\"cmap_vel.cpt\", transparency=70, nan_transparent=True)\n",
    "# Overlay dhdt with 30% transparency\n",
    "# pygmt.makecpt(cmap=\"berlin\", series=[-1.0, 1.0, 0.25], continuous=True, reverse=True)\n",
    "# fig.grdimage(\n",
    "#     grid=\"ATLXI/ds_grid_dhdt_siple_coast.nc\",\n",
    "#     cmap=True,\n",
    "#     # cmap=\"cmap_dhdt.cpt\",\n",
    "#     transparency=30,\n",
    "#     nan_transparent=True,\n",
    "# )\n",
    "fig.show()"
   ]
  },
  {
   "cell_type": "code",
   "execution_count": null,
   "metadata": {},
   "outputs": [],
   "source": [
    "# Plot lakes in PS71 as blobs (red for draining, blue for filling)\n",
    "# TODO refactor after pygmt/geopandas integration is done,\n",
    "# see https://github.com/GenericMappingTools/pygmt/issues/608\n",
    "with pygmt.helpers.GMTTempFile(suffix=\".gmt\") as tmpfile:\n",
    "    os.remove(path=tmpfile.name)\n",
    "    gpd.read_file(lakes).to_file(tmpfile.name, driver=\"OGR_GMT\")\n",
    "    fig.plot(\n",
    "        data=tmpfile.name,  # \"antarctic_subglacial_lakes_3031.geojson\"\n",
    "        pen=\"thinnest,yellow,-\",\n",
    "        cmap=\"cmap_dhdt.cpt\",\n",
    "        color=\"+z\",\n",
    "        close=True,\n",
    "        # transparency=30,\n",
    "        a=\"Z=inner_dhdt\",\n",
    "    )"
   ]
  },
  {
   "cell_type": "code",
   "execution_count": null,
   "metadata": {},
   "outputs": [],
   "source": [
    "# Siple Coast placename labels\n",
    "gdf = gpd.read_file(\"antarctic_subglacial_lakes_3031.gmt\")\n",
    "with open(\"place_labels_siple_coast.tsv\", mode=\"w\") as file:\n",
    "    # Ice Streams A to E\n",
    "    font = \"7p,Helvetica-Narrow-Oblique,white\"\n",
    "    print(f\"-320000\\t-440000\\t-65\\t{font}\\tCM\\tMercer Ice Stream\", file=file)\n",
    "    print(f\"-385000\\t-555000\\t-5\\t{font}\\tCM\\tWhillans Ice Stream\", file=file)\n",
    "    print(f\"-470000\\t-450000\\t-55\\t{font}\\tCM\\tVan der Veen Ice Stream\", file=file)\n",
    "    print(f\"-550000\\t-625000\\t-40\\t{font}\\tCM\\tKamb Ice Stream\", file=file)\n",
    "    print(f\"-700000\\t-700000\\t-45\\t{font}\\tCM\\tBindschadler Ice Stream\", file=file)\n",
    "    print(f\"-700000\\t-850000\\t-37\\t{font}\\tCM\\tMacAyeal Ice Stream\", file=file)\n",
    "\n",
    "    # Ice ridges, rises and domes\n",
    "    print(f\"-370000\\t-480000\\t-30\\t{font}\\tCM\\tConway Ice Ridge\", file=file)\n",
    "    print(f\"-400000\\t-600000\\t0\\t{font}\\tCM\\tEngelhardt Ice Ridge\", file=file)\n",
    "    print(f\"-100000\\t-750000\\t-45\\t{font}\\tCM\\tCrary Ice Rise\", file=file)\n",
    "    print(f\"-450000\\t-780000\\t-35\\t{font}\\tCM\\tSiple Dome\", file=file)\n",
    "    print(f\"-650000\\t-800000\\t-25\\t{font}\\tCM\\tShabtaie Ice Ridge\", file=file)\n",
    "    print(f\"-650000\\t-950000\\t-15\\t{font}\\tCM\\tHarrison Ice Ridge\", file=file)\n",
    "\n",
    "    # Abbreviated lakes\n",
    "    abbrev_dict: dict = {\n",
    "        \"Subglacial\": \"S\",\n",
    "        \"Lake\": \"L\",\n",
    "        \"Conway\": \"C\",\n",
    "        \"Engelhardt\": \"E\",\n",
    "        \"Kamb\": \"K\",\n",
    "        \"MacAyeal\": \"Mac\",\n",
    "        \"Mercer\": \"M\",\n",
    "        # \"Recovery\", \"R\",\n",
    "        # \"Slessor\",\"S\"\n",
    "        \"Whillans\": \"W\",\n",
    "    }\n",
    "    pattern = re.compile(pattern=rf\"\\b({'|'.join(abbrev_dict.keys())})\\b\")\n",
    "\n",
    "    for idx, row in gdf.dissolve(by=\"lake_name\", as_index=False).iterrows():\n",
    "        x, y = row.geometry.centroid.xy\n",
    "\n",
    "        label = pattern.sub(\n",
    "            repl=lambda name: abbrev_dict[name.group()], string=row.lake_name\n",
    "        ).replace(\" \", \"\")\n",
    "        justify = (\n",
    "            \"BL\"\n",
    "            if label in (\"L12\", \"L78\", \"SLW\", \"W7\", \"WX\", \"WXI\")\n",
    "            else \"TC\"\n",
    "            if (\"*\" in label or label == \"SLM\")\n",
    "            else \"TR\"\n",
    "        )\n",
    "\n",
    "        print(f\"{x[0]:.0f}\\t{y[0]:.0f}\\t0\\t6p,white\\t{justify}\\t{label}\", file=file)"
   ]
  },
  {
   "cell_type": "code",
   "execution_count": null,
   "metadata": {},
   "outputs": [],
   "source": [
    "# Plot labels for Siple Coast ice streams, active subglacial lakes, etc\n",
    "fig.text(\n",
    "    textfiles=\"place_labels_siple_coast.tsv\",\n",
    "    angle=True,\n",
    "    font=True,\n",
    "    justify=True,\n",
    "    offset=\"j0.12c\",\n",
    "    # frame=[\"WsNe\", \"af10000g50000\"],\n",
    ")\n",
    "fig.show()"
   ]
  },
  {
   "cell_type": "code",
   "execution_count": null,
   "metadata": {},
   "outputs": [],
   "source": [
    "# Plot the color bar once with a transparent box, then again with no box and no transparency\n",
    "with pygmt.config(\n",
    "    FONT_ANNOT_PRIMARY=\"6p,white\",\n",
    "    FONT_LABEL=\"6p,white\",\n",
    "    MAP_ANNOT_OFFSET_PRIMARY=\"2p\",\n",
    "    MAP_TICK_PEN_PRIMARY=\"0.25p,white\",\n",
    "    MAP_TICK_LENGTH_PRIMARY=\"3p\",\n",
    "    MAP_FRAME_PEN=\"0.5p,white\",\n",
    "    MAP_LABEL_OFFSET=\"4p\",\n",
    "):\n",
    "    colorbar_kwargs = dict(\n",
    "        cmap=\"cmap_dhdt.cpt\",\n",
    "        position=\"jBR+jBR+w1.6c/0.18c+o1.2c/0.3c+v+e\",\n",
    "        frame=[\"xaf\", 'y+l\"dhdt (m/yr)\"'],\n",
    "    )\n",
    "    fig.colorbar(\n",
    "        box=\"+gblack+c-9p/3p\",\n",
    "        # box = '+gblack+p0.5p,black+c3p'\n",
    "        transparency=70,\n",
    "        **colorbar_kwargs,\n",
    "    )\n",
    "    fig.colorbar(**colorbar_kwargs)\n",
    "\n",
    "    # Add a scalebar\n",
    "    fig.basemap(\n",
    "        projection=sipproj_ll, region=sipreg, map_scale=\"jBR+o2.2c/0.3c+w50k+uk+f\"\n",
    "    )\n",
    "\n",
    "fig.show()"
   ]
  },
  {
   "cell_type": "code",
   "execution_count": null,
   "metadata": {},
   "outputs": [],
   "source": [
    "# Make insets of Antarctica\n",
    "# Workaround until https://github.com/GenericMappingTools/pygmt/pull/788 is merged\n",
    "antwidth = 3  # width of inset in cm\n",
    "with pygmt.clib.Session() as lib:\n",
    "    lib.call_module(module=\"inset\", args=f\"begin -DjTR+w{antwidth}c\")\n",
    "\n",
    "    # Plot the inset map\n",
    "    fig.basemap(region=vel, projection=f\"S0/-90/71/{antwidth}c\", frame=\"+n\")\n",
    "    fig.coast(area_thresh=\"+a\", land=\"white\")  # ice shelf in white\n",
    "    fig.coast(area_thresh=\"+ag\", land=\"gray\")  # grounded ice in gray\n",
    "    fig.plot(\n",
    "        projection=f\"X{antwidth}c\",\n",
    "        x=[sip_xl, sip_xl, sip_xh, sip_xh, sip_xl],\n",
    "        y=[sip_yl, sip_yh, sip_yh, sip_yl, sip_yl],\n",
    "        pen=\"1p,black\",  # map location in black\n",
    "    )\n",
    "\n",
    "    lib.call_module(module=\"inset\", args=\"end\")\n",
    "\n",
    "fig.show()"
   ]
  },
  {
   "cell_type": "code",
   "execution_count": null,
   "metadata": {
    "lines_to_next_cell": 2
   },
   "outputs": [],
   "source": [
    "# Save the figure\n",
    "fig.savefig(fname=\"siple_coast_lakes.pdf\")\n",
    "fig.savefig(fname=\"siple_coast_lakes.png\", dpi=1200)"
   ]
  },
  {
   "cell_type": "code",
   "execution_count": null,
   "metadata": {},
   "outputs": [],
   "source": []
  },
  {
   "cell_type": "markdown",
   "metadata": {},
   "source": [
    "# Figure of Antarctic active subglacial lake map"
   ]
  },
  {
   "cell_type": "code",
   "execution_count": null,
   "metadata": {
    "lines_to_next_cell": 2
   },
   "outputs": [],
   "source": [
    "# We're making this a specific height\n",
    "figheight = 115  # in mm\n",
    "\n",
    "# Region in PS71 for main part of the figure\n",
    "ais_xl, ais_xh, ais_yl, ais_yh = aisreg = [-2700000, 2800000, -2200000, 2300000]\n",
    "\n",
    "# Calculate the figure width and map scale\n",
    "figwidth = figheight * (ais_xh - ais_xl) / (ais_yh - ais_yl)\n",
    "aisratio = (ais_yh - ais_yl) / (figheight / 1000)\n",
    "\n",
    "# Make a GMT region string and projection strings in both PS71 and Lon/Lat\n",
    "aisreg = [ais_xl, ais_xh, ais_yl, ais_yh]\n",
    "aisproj = \"x1:\" + str(aisratio)\n",
    "aisproj_ll = \"s0/-90/-71/1:\" + str(aisratio)"
   ]
  },
  {
   "cell_type": "code",
   "execution_count": null,
   "metadata": {},
   "outputs": [],
   "source": [
    "# Initialize figure and plot MOA as the base map with ticks every 200 km both directions\n",
    "fig = pygmt.Figure()\n",
    "with pygmt.config(MAP_FRAME_TYPE=\"inside\"):\n",
    "    # fig.coast(\n",
    "    #     projection=aisproj_ll, region=aisreg, land=\"lightblue\", water=\"royalblue2\"\n",
    "    # )\n",
    "    fig.coast(region=aisreg, projection=aisproj_ll, resolution=\"c\", water=True)\n",
    "    fig.grdimage(\n",
    "        grid=\"@earth_relief_03m\",\n",
    "        projection=aisproj_ll,\n",
    "        region=aisreg,\n",
    "        cmap=\"oleron\",\n",
    "        shading=True,\n",
    "    )\n",
    "    fig.coast(Q=True)  # end water clip path\n",
    "    fig.basemap(\n",
    "        projection=aisproj, region=aisreg, frame=[\"nwse\", \"xf200000\", \"yf200000\"]\n",
    "    )\n",
    "    fig.grdimage(grid=moa, cmap=\"cmap_moa.cpt\", nan_transparent=True)\n",
    "\n",
    "# Plot graticules overtop, every 10° latitude and 45° longitude\n",
    "with pygmt.config(\n",
    "    MAP_ANNOT_OFFSET_PRIMARY=\"-2p\",\n",
    "    MAP_FRAME_TYPE=\"inside\",\n",
    "    MAP_ANNOT_OBLIQUE=0,\n",
    "    FONT_ANNOT_PRIMARY=\"8p,grey\",\n",
    "    MAP_GRID_PEN_PRIMARY=\"grey\",\n",
    "    MAP_TICK_LENGTH_PRIMARY=\"-10p\",\n",
    "    MAP_TICK_PEN_PRIMARY=\"thinnest,grey\",\n",
    "    FORMAT_GEO_MAP=\"dddF\",\n",
    "    MAP_POLAR_CAP=\"88/90\",  # less longitude graticules at >88°S\n",
    "):\n",
    "    fig.basemap(\n",
    "        projection=aisproj_ll, region=aisreg, frame=[\"NSWE\", \"xa45g45\", \"ya10g10\"]\n",
    "    )\n",
    "\n",
    "# Plot the grounding line in white\n",
    "fig.plot(data=groundingline, region=aisreg, projection=aisproj, pen=\"0.15p,white\")\n",
    "\n",
    "# Plot bounding box of Siple Coast study area\n",
    "fig.plot(\n",
    "    x=[sip_xl, sip_xl, sip_xh, sip_xh, sip_xl],\n",
    "    y=[sip_yl, sip_yh, sip_yh, sip_yl, sip_yl],\n",
    "    pen=\"0.5p,black\",  # map location in black\n",
    "    transparency=50,\n",
    ")"
   ]
  },
  {
   "cell_type": "code",
   "execution_count": null,
   "metadata": {},
   "outputs": [],
   "source": [
    "# Overlay ice velocity with 70% transparency\n",
    "fig.grdimage(grid=vel, cmap=\"cmap_vel.cpt\", transparency=70, nan_transparent=True)\n",
    "fig.show()"
   ]
  },
  {
   "cell_type": "code",
   "execution_count": null,
   "metadata": {},
   "outputs": [],
   "source": [
    "# Antarctica placename labels\n",
    "with open(\"place_labels_antarctica.tsv\", mode=\"w\") as file:\n",
    "    font = \"10p,Helvetica-Narrow,white\"\n",
    "    print(f\"-1070000\\t-360000\\t0\\t{font}\\tWest\", file=file)\n",
    "    print(f\"-1070000\\t-460000\\t0\\t{font}\\tAntarctica\", file=file)\n",
    "    print(f\"950000\\t600000\\t0\\t{font}\\tEast\", file=file)\n",
    "    print(f\"950000\\t500000\\t0\\t{font}\\tAntarctica\", file=file)\n",
    "\n",
    "    font = \"6p,Helvetica-Narrow-Oblique,white\"\n",
    "    print(f\"0\\t-1000000\\t0\\t{font}\\tRoss\", file=file)\n",
    "    print(f\"0\\t-1060000\\t0\\t{font}\\tIce Shelf\", file=file)\n",
    "    print(f\"-1000000\\t700000\\t0\\t{font}\\tRonne-Filchner\", file=file)\n",
    "    print(f\"-1000000\\t640000\\t0\\t{font}\\tIce Shelf\", file=file)\n",
    "    print(f\"2100000\\t760000\\t0\\t{font}\\tAmery\", file=file)\n",
    "    print(f\"2100000\\t700000\\t0\\t{font}\\tIce Shelf\", file=file)\n",
    "\n",
    "    font = \"4p,Helvetica-Narrow-Oblique,white\"\n",
    "    print(f\"-400000\\t1150000\\t45\\t{font}\\tSlessor Glacier\", file=file)\n",
    "    print(f\"-90000\\t850000\\t0\\t{font}\\tRecovery Glacier\", file=file)\n",
    "    print(f\"-340000\\t200000\\t-30\\t{font}\\tFoundation Ice Stream\", file=file)\n",
    "    print(f\"-810000\\t95000\\t-60\\t{font}\\tInstitute Ice Stream\", file=file)\n",
    "    # print(f\"-1500000\\t50000\\t20\\t{font}\\tRutford Ice Stream\", file=file)\n",
    "    print(f\"-1300000\\t-300000\\t30\\t{font}\\tThwaites Glacier\", file=file)\n",
    "    print(f\"-500000\\t-700000\\t40\\t{font}\\tSiple Coast\", file=file)\n",
    "    print(f\"500000\\t-440000\\t0\\t{font}\\tNimrod 2\", file=file)\n",
    "    print(f\"550000\\t-750000\\t35\\t{font}\\tByrd Glacier\", file=file)\n",
    "    print(f\"700000\\t-1500000\\t5\\t{font}\\tDavid Glacier\", file=file)\n",
    "    print(f\"870000\\t-1700000\\t0\\t{font}\\tCook E2\", file=file)\n",
    "    # print(f\"2200000\\t-850000\\t-70\\t{font}\\tTotten Glacier\", file=file)\n",
    "    print(f\"1400000\\t650000\\t15\\t{font}\\tLambert Glacier\", file=file)"
   ]
  },
  {
   "cell_type": "code",
   "execution_count": null,
   "metadata": {},
   "outputs": [],
   "source": [
    "# Plot labels for Antarctic ice shelves, ice streams, etc\n",
    "fig.text(\n",
    "    region=aisreg,\n",
    "    projection=aisproj,\n",
    "    textfiles=\"place_labels_antarctica.tsv\",\n",
    "    angle=True,\n",
    "    font=True,\n",
    "    # frame=[\"WsNe\", \"af100000g500000\"],\n",
    ")"
   ]
  },
  {
   "cell_type": "code",
   "execution_count": null,
   "metadata": {},
   "outputs": [],
   "source": [
    "# Plot lakes in PS71 as cyan blobs with 60% transparency\n",
    "# TODO refactor after pygmt/geopandas integration is done,\n",
    "# see https://github.com/GenericMappingTools/pygmt/issues/608\n",
    "with pygmt.helpers.GMTTempFile(suffix=\".gmt\") as tmpfile:\n",
    "    os.remove(path=tmpfile.name)\n",
    "    gpd.read_file(lakes).to_file(tmpfile.name, driver=\"OGR_GMT\")\n",
    "    fig.plot(\n",
    "        data=tmpfile.name,  # \"antarctic_subglacial_lakes_3031.geojson\"\n",
    "        pen=\"0.5p,cyan\",\n",
    "        color=\"cyan\",\n",
    "        transparency=60,\n",
    "    )\n",
    "fig.show()"
   ]
  },
  {
   "cell_type": "code",
   "execution_count": null,
   "metadata": {},
   "outputs": [],
   "source": [
    "# Add the finishing touches by putting a panel label in the bottom left corner,\n",
    "# and add a legend with a 70% transparent box behind it (so you can see it\n",
    "# clearly) that includes:\n",
    "# - a cyan ellipse the cyan lakes\n",
    "# - a color bar for the ice surface velocity\n",
    "barwidth = 0.3 * figwidth / 10  # legend width is 30% of the map width, in cm\n",
    "\n",
    "# Position string for feeding to the colorbar call. A bit coded, but the pyGMT\n",
    "# documents are great: https://www.pygmt.org/dev/api/index.html\n",
    "legend_pos: str = f\"jBL+jBL+w{barwidth}c+o0.2c/0.2c\"\n",
    "\n",
    "# Plot the color bar once with a transparent box, then again with no box and no transparency\n",
    "with pygmt.config(\n",
    "    FONT_ANNOT_PRIMARY=\"8p,white\",\n",
    "    FONT_LABEL=\"8p,white\",\n",
    "    MAP_ANNOT_OFFSET_PRIMARY=\"2p\",\n",
    "    MAP_TICK_PEN_PRIMARY=\"0.5p,white\",\n",
    "    MAP_TICK_LENGTH_PRIMARY=\"3p\",\n",
    "    MAP_FRAME_PEN=\"0.5p,white\",\n",
    "    MAP_LABEL_OFFSET=\"4p\",\n",
    "):\n",
    "    fig.legend(\n",
    "        spec=\"legend.txt\", position=legend_pos, box=\"+gblack+c1.2p\", transparency=\"70\"\n",
    "    )\n",
    "    fig.legend(spec=\"legend.txt\", position=legend_pos)\n",
    "\n",
    "fig.show()"
   ]
  },
  {
   "cell_type": "code",
   "execution_count": null,
   "metadata": {},
   "outputs": [],
   "source": [
    "# Save the figure\n",
    "fig.savefig(fname=\"antarctica_lakes.pdf\")\n",
    "fig.savefig(fname=\"antarctica_lakes.png\", dpi=600)"
   ]
  },
  {
   "cell_type": "code",
   "execution_count": null,
   "metadata": {},
   "outputs": [],
   "source": []
  }
 ],
 "metadata": {
  "jupytext": {
   "encoding": "# -*- coding: utf-8 -*-",
   "formats": "ipynb,py:hydrogen"
  },
  "kernelspec": {
   "display_name": "gmt",
   "language": "python",
   "name": "gmt"
  },
  "language_info": {
   "codemirror_mode": {
    "name": "ipython",
    "version": 3
   },
   "file_extension": ".py",
   "mimetype": "text/x-python",
   "name": "python",
   "nbconvert_exporter": "python",
   "pygments_lexer": "ipython3",
   "version": "3.8.6"
  }
 },
 "nbformat": 4,
 "nbformat_minor": 4
}
