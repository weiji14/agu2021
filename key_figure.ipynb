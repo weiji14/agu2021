{
 "cells": [
  {
   "cell_type": "markdown",
   "metadata": {},
   "source": [
    "# **ICESat-2 detected active subglacial lakes**\n",
    "\n",
    "Making pretty maps of active subglacial lakes in Antarctica,\n",
    "a companion jupyter notebook to https://github.com/weiji14/deepicedrain.\n",
    "Uses [PyGMT](https://www.pygmt.org) for illustration,\n",
    "heavily inspired by https://github.com/mrsiegfried/Venturelli2020-GRL"
   ]
  },
  {
   "cell_type": "code",
   "execution_count": null,
   "metadata": {},
   "outputs": [],
   "source": [
    "import os\n",
    "from glob import glob\n",
    "\n",
    "import geopandas as gpd\n",
    "import numpy as np\n",
    "import pandas as pd\n",
    "import pooch\n",
    "import pygmt"
   ]
  },
  {
   "cell_type": "markdown",
   "metadata": {},
   "source": [
    "# Get data files\n",
    "\n",
    "Data for background basemaps:\n",
    "\n",
    "- Haran, T. M., Bohlander, J., Scambos, T. A., Painter, T. H., & Fahnestock, M. A. (2014). MODIS Mosaic of Antarctica 2008-2009 (MOA2009) Image Map. U.S. Antarctic Program Data Center (USAP-DC), via National Snow and Ice Data Center (NSIDC). https://doi.org/10.7265/N5KP8037\n",
    "- Depoorter, M. A., Bamber, J. L., Griggs, J. A., Lenaerts, J. T. M., Ligtenberg, S. R. M., van den Broeke, M. R., & Moholdt, G. (2013). Antarctic masks (ice-shelves, ice-sheet, and islands), link to shape file (p. 15.8 MBytes) [Application/zip]. PANGAEA - Data Publisher for Earth & Environmental Science. https://doi.org/10.1594/PANGAEA.819147\n",
    "- Mouginot, J., Rignot, E., & Scheuchl, B. (2019). MEaSUREs Phase Map of Antarctic Ice Velocity, Version 1 [Data set]. NASA National Snow and Ice Data Center DAAC. https://doi.org/10.5067/PZ3NJ5RXRH10"
   ]
  },
  {
   "cell_type": "code",
   "execution_count": null,
   "metadata": {},
   "outputs": [],
   "source": [
    "# Using Quantarctica3 from https://www.npolar.no/quantarctica/\n",
    "datafold: str = os.getenv(\"DATAHOME\") or os.path.abspath(\"Quantarctica3\")\n",
    "os.makedirs(name=datafold, exist_ok=True)"
   ]
  },
  {
   "cell_type": "code",
   "execution_count": null,
   "metadata": {},
   "outputs": [],
   "source": [
    "# MODIS Mosaic of Antarctica\n",
    "moa_no_nan: str = pooch.retrieve(\n",
    "    url=\"ftp://ftp.nsidc.org/pub/DATASETS/nsidc0593_moa2009/geotiff/moa750_2009_hp1_v01.1.tif.gz\",\n",
    "    known_hash=\"90d1718ea0971795ec102482c47f308ba08ba2b88383facb9fe210877e80282c\",\n",
    "    path=f\"{datafold}/SatelliteImagery/MODIS\",\n",
    "    processor=pooch.Decompress(name=\"moa750_2009_hp1_v1.1.tif\"),\n",
    ")\n",
    "moa = f\"{datafold}/SatelliteImagery/MODIS/moa750_2009_hp1_v01.1.tif\"\n",
    "try:\n",
    "    assert os.path.exists(path=moa)\n",
    "except AssertionError:\n",
    "    with pygmt.clib.Session() as lib:\n",
    "        # !gmt grdmath $moa_no_nan 0 NAN = $moa\n",
    "        lib.call_module(module=\"grdmath\", args=f\"{moa_no_nan} 0 NAN = {moa}\")"
   ]
  },
  {
   "cell_type": "code",
   "execution_count": null,
   "metadata": {},
   "outputs": [],
   "source": [
    "# Scripps Grounding Line\n",
    "shapefiles: list = pooch.retrieve(\n",
    "    url=\"https://epic.awi.de/id/eprint/33781/1/Antarctica_masks.zip\",\n",
    "    known_hash=\"e4c5918240e334680aed1329f109527efd8f43b6a277bb8e77b66f84f8c16619\",\n",
    "    fname=\"groundingline\",\n",
    "    path=f\"{datafold}/Miscellaneous/ScrippsGroundingLine\",\n",
    "    processor=pooch.Unzip(),\n",
    ")\n",
    "groundingline: str = [file for file in shapefiles if file.endswith(\".shp\")][0]"
   ]
  },
  {
   "cell_type": "code",
   "execution_count": null,
   "metadata": {},
   "outputs": [],
   "source": [
    "# MEaSUREs Phase Map of Antarctic Ice Velocity\n",
    "vel_file = f\"{datafold}/Glaciology/MEaSUREs_PhaseBased_Velocity/antarctic_ice_vel_phase_map_v01\"\n",
    "vel: str = f\"{vel_file}-vmag.nc\"\n",
    "try:\n",
    "    assert os.path.exists(vel)\n",
    "except AssertionError:\n",
    "    # Note, download require a .netrc file containing 'machine urs.earthdata.nasa.gov login <uid> password <password>'\n",
    "    # see https://nsidc.org/support/how/how-do-i-programmatically-access-data-spatial-temporal\n",
    "    vel_file: str = pooch.retrieve(\n",
    "        url=\"https://n5eil01u.ecs.nsidc.org/MEASURES/NSIDC-0754.001/1996.01.01/antarctic_ice_vel_phase_map_v01.nc\",\n",
    "        known_hash=\"fa0957618b8bd98099f4a419d7dc0e3a2c562d89e9791b4d0ed55e6017f52416\",\n",
    "        fname=\"antarctic_ice_vel_phase_map_v01.nc\",\n",
    "        path=f\"{datafold}/Glaciology/MEaSUREs_PhaseBased_Velocity\",\n",
    "    )\n",
    "    with pygmt.clib.Session() as lib:\n",
    "        #! gmt grdmath ${vel_file}.nc?VX 2 POW ${vel_file}.nc?VY 2 POW POW 0.5 = ${vel_file}-vmag.nc\n",
    "        lib.call_module(\n",
    "            module=\"grdmath\",\n",
    "            args=f\"{vel_file}.nc?VX 2 POW {vel_file}.nc?VY 2 POW POW 0.5 = {vel}\",\n",
    "        )"
   ]
  },
  {
   "cell_type": "code",
   "execution_count": null,
   "metadata": {},
   "outputs": [],
   "source": []
  }
 ],
 "metadata": {
  "jupytext": {
   "encoding": "# -*- coding: utf-8 -*-",
   "formats": "ipynb,py:hydrogen"
  },
  "kernelspec": {
   "display_name": "gmt",
   "language": "python",
   "name": "gmt"
  },
  "language_info": {
   "codemirror_mode": {
    "name": "ipython",
    "version": 3
   },
   "file_extension": ".py",
   "mimetype": "text/x-python",
   "name": "python",
   "nbconvert_exporter": "python",
   "pygments_lexer": "ipython3",
   "version": "3.8.6"
  }
 },
 "nbformat": 4,
 "nbformat_minor": 4
}
