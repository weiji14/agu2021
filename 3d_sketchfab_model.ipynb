{
 "cells": [
  {
   "cell_type": "markdown",
   "id": "19160797",
   "metadata": {},
   "source": [
    "# **3D point cloud of Siple Coast active subglacial lakes**\n",
    "\n",
    "Making a LiDAR point cloud of Antarctica for an 2021 AGU poster.\n",
    "Will be uploaded as a 3D model to [Sketchfab](https://sketchfab.com)."
   ]
  },
  {
   "cell_type": "code",
   "execution_count": 1,
   "id": "487e7e23",
   "metadata": {
    "lines_to_next_cell": 2
   },
   "outputs": [],
   "source": [
    "import cmcrameri.cm as cmc\n",
    "import pandas as pd\n",
    "import pygmt\n",
    "import pyvista as pv"
   ]
  },
  {
   "cell_type": "markdown",
   "id": "367103f2",
   "metadata": {},
   "source": [
    "## Load ICESat-2 point cloud over Siple Coast"
   ]
  },
  {
   "cell_type": "code",
   "execution_count": 2,
   "id": "e78546ca",
   "metadata": {},
   "outputs": [],
   "source": [
    "# Load Siple Coast pre-processed ATL11 point cloud data\n",
    "# This 4.6GB file was processed using the atlxi_dhdt.ipynb script from\n",
    "# https://github.com/weiji14/deepicedrain/pull/329/commits/9073678a2adb42fcc863afec22957c879988fa3d\n",
    "df_dhdt: pd.DataFrame = pd.read_parquet(path=\"df_dhdt_siple_coast.parquet\")"
   ]
  },
  {
   "cell_type": "code",
   "execution_count": 3,
   "id": "19e6fcca",
   "metadata": {},
   "outputs": [
    {
     "data": {
      "text/html": [
       "<div>\n",
       "<style scoped>\n",
       "    .dataframe tbody tr th:only-of-type {\n",
       "        vertical-align: middle;\n",
       "    }\n",
       "\n",
       "    .dataframe tbody tr th {\n",
       "        vertical-align: top;\n",
       "    }\n",
       "\n",
       "    .dataframe thead th {\n",
       "        text-align: right;\n",
       "    }\n",
       "</style>\n",
       "<table border=\"1\" class=\"dataframe\">\n",
       "  <thead>\n",
       "    <tr style=\"text-align: right;\">\n",
       "      <th></th>\n",
       "      <th>x</th>\n",
       "      <th>y</th>\n",
       "      <th>z</th>\n",
       "      <th>dhdt_slope</th>\n",
       "    </tr>\n",
       "  </thead>\n",
       "  <tbody>\n",
       "    <tr>\n",
       "      <th>302</th>\n",
       "      <td>-802410.747040</td>\n",
       "      <td>-106989.154175</td>\n",
       "      <td>199090.625000</td>\n",
       "      <td>0.124508</td>\n",
       "    </tr>\n",
       "    <tr>\n",
       "      <th>304</th>\n",
       "      <td>-802517.779339</td>\n",
       "      <td>-107035.437614</td>\n",
       "      <td>199336.000000</td>\n",
       "      <td>0.121043</td>\n",
       "    </tr>\n",
       "    <tr>\n",
       "      <th>309</th>\n",
       "      <td>-802785.361000</td>\n",
       "      <td>-107151.145747</td>\n",
       "      <td>199977.250000</td>\n",
       "      <td>0.121403</td>\n",
       "    </tr>\n",
       "    <tr>\n",
       "      <th>310</th>\n",
       "      <td>-802838.876575</td>\n",
       "      <td>-107174.289345</td>\n",
       "      <td>200098.046875</td>\n",
       "      <td>0.121118</td>\n",
       "    </tr>\n",
       "    <tr>\n",
       "      <th>17336</th>\n",
       "      <td>-519643.152282</td>\n",
       "      <td>-235294.398466</td>\n",
       "      <td>157506.828125</td>\n",
       "      <td>-0.254864</td>\n",
       "    </tr>\n",
       "    <tr>\n",
       "      <th>...</th>\n",
       "      <td>...</td>\n",
       "      <td>...</td>\n",
       "      <td>...</td>\n",
       "      <td>...</td>\n",
       "    </tr>\n",
       "    <tr>\n",
       "      <th>47760427</th>\n",
       "      <td>149823.633547</td>\n",
       "      <td>-654345.713111</td>\n",
       "      <td>246131.156250</td>\n",
       "      <td>-0.940599</td>\n",
       "    </tr>\n",
       "    <tr>\n",
       "      <th>47760428</th>\n",
       "      <td>149830.391271</td>\n",
       "      <td>-654287.870761</td>\n",
       "      <td>246302.953125</td>\n",
       "      <td>-2.756242</td>\n",
       "    </tr>\n",
       "    <tr>\n",
       "      <th>47760429</th>\n",
       "      <td>149837.141303</td>\n",
       "      <td>-654230.020594</td>\n",
       "      <td>246527.203125</td>\n",
       "      <td>-1.920799</td>\n",
       "    </tr>\n",
       "    <tr>\n",
       "      <th>47760431</th>\n",
       "      <td>149850.155510</td>\n",
       "      <td>-654114.277456</td>\n",
       "      <td>246791.156250</td>\n",
       "      <td>-1.553098</td>\n",
       "    </tr>\n",
       "    <tr>\n",
       "      <th>47760432</th>\n",
       "      <td>149857.391521</td>\n",
       "      <td>-654056.490936</td>\n",
       "      <td>246940.812500</td>\n",
       "      <td>-1.315277</td>\n",
       "    </tr>\n",
       "  </tbody>\n",
       "</table>\n",
       "<p>9445483 rows × 4 columns</p>\n",
       "</div>"
      ],
      "text/plain": [
       "                      x              y              z  dhdt_slope\n",
       "302      -802410.747040 -106989.154175  199090.625000    0.124508\n",
       "304      -802517.779339 -107035.437614  199336.000000    0.121043\n",
       "309      -802785.361000 -107151.145747  199977.250000    0.121403\n",
       "310      -802838.876575 -107174.289345  200098.046875    0.121118\n",
       "17336    -519643.152282 -235294.398466  157506.828125   -0.254864\n",
       "...                 ...            ...            ...         ...\n",
       "47760427  149823.633547 -654345.713111  246131.156250   -0.940599\n",
       "47760428  149830.391271 -654287.870761  246302.953125   -2.756242\n",
       "47760429  149837.141303 -654230.020594  246527.203125   -1.920799\n",
       "47760431  149850.155510 -654114.277456  246791.156250   -1.553098\n",
       "47760432  149857.391521 -654056.490936  246940.812500   -1.315277\n",
       "\n",
       "[9445483 rows x 4 columns]"
      ]
     },
     "execution_count": 3,
     "metadata": {},
     "output_type": "execute_result"
    }
   ],
   "source": [
    "# Filter point cloud to those with rate of elevation change (dhdt)\n",
    "# that is -0.12 m/yr < dhdt_slope > 0.12 m/yr\n",
    "_df_dhdt = df_dhdt[abs(df_dhdt.dhdt_slope) > 0.12]  # 0.105\n",
    "points: pd.DataFrame = (\n",
    "    _df_dhdt[[\"x\", \"y\", \"h_corr_11\", \"dhdt_slope\"]]\n",
    "    .rename(columns=dict(h_corr_11=\"z\"))\n",
    "    .dropna()\n",
    ")\n",
    "\n",
    "# Add some vertical exaggeration (x100) to z-axis\n",
    "points[\"z\"] *= 100\n",
    "points"
   ]
  },
  {
   "cell_type": "markdown",
   "id": "4e070deb",
   "metadata": {},
   "source": [
    "## Wrap ICESat-2 data in PyVista format"
   ]
  },
  {
   "cell_type": "code",
   "execution_count": 4,
   "id": "83402269",
   "metadata": {},
   "outputs": [],
   "source": [
    "# Create XYZ point cloud in pyvista format\n",
    "cloud = pv.PolyData(var_inp=points[[\"x\", \"y\", \"z\"]].to_numpy())"
   ]
  },
  {
   "cell_type": "code",
   "execution_count": 5,
   "id": "88c0a774",
   "metadata": {},
   "outputs": [
    {
     "data": {
      "text/html": [
       "<table><tr><th>Header</th><th>Data Arrays</th></tr><tr><td>\n",
       "<table>\n",
       "<tr><th>PolyData</th><th>Information</th></tr>\n",
       "<tr><td>N Cells</td><td>9445483</td></tr>\n",
       "<tr><td>N Points</td><td>9445483</td></tr>\n",
       "<tr><td>X Bounds</td><td>-1.000e+06, 2.500e+05</td></tr>\n",
       "<tr><td>Y Bounds</td><td>-1.000e+06, -1.000e+05</td></tr>\n",
       "<tr><td>Z Bounds</td><td>-1.927e+06, 5.896e+06</td></tr>\n",
       "<tr><td>N Arrays</td><td>1</td></tr>\n",
       "</table>\n",
       "\n",
       "</td><td>\n",
       "<table>\n",
       "<tr><th>Name</th><th>Field</th><th>Type</th><th>N Comp</th><th>Min</th><th>Max</th></tr>\n",
       "<tr><td><b>dhdt_slope</b></td><td>Points</td><td>float32</td><td>1</td><td>-8.417e+03</td><td>6.748e+04</td></tr>\n",
       "</table>\n",
       "\n",
       "</td></tr> </table>"
      ],
      "text/plain": [
       "PolyData (0x7f56e5274580)\n",
       "  N Cells:\t9445483\n",
       "  N Points:\t9445483\n",
       "  X Bounds:\t-1.000e+06, 2.500e+05\n",
       "  Y Bounds:\t-1.000e+06, -1.000e+05\n",
       "  Z Bounds:\t-1.927e+06, 5.896e+06\n",
       "  N Arrays:\t1"
      ]
     },
     "execution_count": 5,
     "metadata": {},
     "output_type": "execute_result"
    }
   ],
   "source": [
    "# Add dhdt_slope as an attribute to the XYZ point cloud\n",
    "cloud.point_data[\"dhdt_slope\"] = points.dhdt_slope\n",
    "cloud"
   ]
  },
  {
   "cell_type": "markdown",
   "id": "c713c3ab",
   "metadata": {},
   "source": [
    "## Render the point cloud!"
   ]
  },
  {
   "cell_type": "code",
   "execution_count": null,
   "id": "f6122569",
   "metadata": {
    "lines_to_next_cell": 2
   },
   "outputs": [],
   "source": [
    "# Make a 3D PyVista plot of the XYZ point cloud, colored by dhdt_slope\n",
    "p = pv.Plotter()\n",
    "p.add_points(points=cloud, clim=[-2.5, 2.5], cmap=cmc.vik_r)\n",
    "p.export_gltf(filename=\"siple_coast_point_cloud.gltf\")\n",
    "p.show(cpos=\"xy\")"
   ]
  },
  {
   "cell_type": "code",
   "execution_count": 7,
   "id": "f1bafd13",
   "metadata": {},
   "outputs": [
    {
     "name": "stdout",
     "output_type": "stream",
     "text": [
      "\n",
      "7-Zip [64] 16.02 : Copyright (c) 1999-2016 Igor Pavlov : 2016-05-21\n",
      "p7zip Version 16.02 (locale=en_NZ.UTF-8,Utf16=on,HugeFiles=on,64 bits,80 CPUs Intel(R) Xeon(R) Gold 6138 CPU @ 2.00GHz (50654),ASM,AES-NI)\n",
      "\n",
      "Scanning the drive:\n",
      "  0M Sca        1 file, 302259976 bytes (289 MiB)\n",
      "\n",
      "Creating archive: siple_coast_point_cloud.gltf.7z\n",
      "\n",
      "Items to compress: 1\n",
      "\n",
      "      0% + siple_coast_point_cloud.glt                                    0% 1 + siple_coast_point_cloud.glt                                      1% 1 + siple_coast_point_cloud.glt                                      2% 1 + siple_coast_point_cloud.glt                                      4% 1 + siple_coast_point_cloud.glt                                      5% 1 + siple_coast_point_cloud.glt                                      6% 1 + siple_coast_point_cloud.glt                                      7% 1 + siple_coast_point_cloud.glt                                      8% 1 + siple_coast_point_cloud.glt                                      9% 1 + siple_coast_point_cloud.glt                                     10% 1 + siple_coast_point_cloud.glt                                     11% 1 + siple_coast_point_cloud.glt                                     12% 1 + siple_coast_point_cloud.glt                                     14% 1 + siple_coast_point_cloud.glt                                     15% 1 + siple_coast_point_cloud.glt                                     16% 1 + siple_coast_point_cloud.glt                                     17% 1 + siple_coast_point_cloud.glt                                     18% 1 + siple_coast_point_cloud.glt                                     19% 1 + siple_coast_point_cloud.glt                                     20% 1 + siple_coast_point_cloud.glt                                     21% 1 + siple_coast_point_cloud.glt                                     22% 1 + siple_coast_point_cloud.glt                                     23% 1 + siple_coast_point_cloud.glt                                     24% 1 + siple_coast_point_cloud.glt                                     25% 1 + siple_coast_point_cloud.glt                                     26% 1 + siple_coast_point_cloud.glt                                     27% 1 + siple_coast_point_cloud.glt                                     28% 1 + siple_coast_point_cloud.glt                                     29% 1 + siple_coast_point_cloud.glt                                     30% 1 + siple_coast_point_cloud.glt                                     31% 1 + siple_coast_point_cloud.glt                                     32% 1 + siple_coast_point_cloud.glt                                     33% 1 + siple_coast_point_cloud.glt                                     34% 1 + siple_coast_point_cloud.glt                                     35% 1 + siple_coast_point_cloud.glt                                     36% 1 + siple_coast_point_cloud.glt                                     37% 1 + siple_coast_point_cloud.glt                                     38% 1 + siple_coast_point_cloud.glt                                     39% 1 + siple_coast_point_cloud.glt                                     40% 1 + siple_coast_point_cloud.glt                                     41% 1 + siple_coast_point_cloud.glt                                     42% 1 + siple_coast_point_cloud.glt                                     43% 1 + siple_coast_point_cloud.glt                                     44% 1 + siple_coast_point_cloud.glt                                     45% 1 + siple_coast_point_cloud.glt                                     46% 1 + siple_coast_point_cloud.glt                                     47% 1 + siple_coast_point_cloud.glt                                     48% 1 + siple_coast_point_cloud.glt                                     49% 1 + siple_coast_point_cloud.glt                                     50% 1 + siple_coast_point_cloud.glt                                     51% 1 + siple_coast_point_cloud.glt                                     52% 1 + siple_coast_point_cloud.glt                                     53% 1 + siple_coast_point_cloud.glt                                     54% 1 + siple_coast_point_cloud.glt                                     55% 1 + siple_coast_point_cloud.glt                                     56% 1 + siple_coast_point_cloud.glt                                     57% 1 + siple_coast_point_cloud.glt                                     58% 1 + siple_coast_point_cloud.glt                                     59% 1 + siple_coast_point_cloud.glt                                     60% 1 + siple_coast_point_cloud.glt                                     61% 1 + siple_coast_point_cloud.glt                                     62% 1 + siple_coast_point_cloud.glt                                     63% 1 + siple_coast_point_cloud.glt                                     64% 1 + siple_coast_point_cloud.glt                                     65% 1 + siple_coast_point_cloud.glt                                     66% 1 + siple_coast_point_cloud.glt                                     67% 1 + siple_coast_point_cloud.glt                                     68% 1 + siple_coast_point_cloud.glt                                     69% 1 + siple_coast_point_cloud.glt                                     70% 1 + siple_coast_point_cloud.glt                                     71% 1 + siple_coast_point_cloud.glt                                     72% 1 + siple_coast_point_cloud.glt                                     73% 1 + siple_coast_point_cloud.glt                                     74% 1 + siple_coast_point_cloud.glt                                     75% 1 + siple_coast_point_cloud.glt                                     76% 1 + siple_coast_point_cloud.glt                                     77% 1 + siple_coast_point_cloud.glt                                     78% 1 + siple_coast_point_cloud.glt                                     79% 1 + siple_coast_point_cloud.glt                                     80% 1 + siple_coast_point_cloud.glt                                     81% 1 + siple_coast_point_cloud.glt                                     82% 1 + siple_coast_point_cloud.glt                                     83% 1 + siple_coast_point_cloud.glt                                     84% 1 + siple_coast_point_cloud.glt                                     85% 1 + siple_coast_point_cloud.glt                                     86% 1 + siple_coast_point_cloud.glt                                     87% 1 + siple_coast_point_cloud.glt                                     88% 1 + siple_coast_point_cloud.glt                                     89% 1 + siple_coast_point_cloud.glt                                     90% 1 + siple_coast_point_cloud.glt                                     91% 1 + siple_coast_point_cloud.glt                                     92% 1 + siple_coast_point_cloud.glt                                     93% 1 + siple_coast_point_cloud.glt                                     94% 1 + siple_coast_point_cloud.glt                                     95% 1 + siple_coast_point_cloud.glt                                     96% 1 + siple_coast_point_cloud.glt                                     97% 1 + siple_coast_point_cloud.glt                                     98% 1 + siple_coast_point_cloud.glt                                     99% 1 + siple_coast_point_cloud.glt                                    100% 1 + siple_coast_point_cloud.glt                                    \n",
      "Files read from disk: 1\n",
      "Archive size: 104760219 bytes (100 MiB)\n",
      "Everything is Ok\n"
     ]
    }
   ],
   "source": [
    "# https://superuser.com/questions/281573/what-are-the-best-options-to-use-when-compressing-files-using-7-zip/742034#742034\n",
    "# !7z a -t7z -m0=lzma2 -mx=9 -mfb=64 -md=32m -ms=on siple_coast_point_cloud.gltf.7z siple_coast_point_cloud.gltf"
   ]
  },
  {
   "cell_type": "code",
   "execution_count": null,
   "id": "584ad7fc",
   "metadata": {},
   "outputs": [],
   "source": [
    "# Quick plot\n",
    "# cloud.plot(cpos=\"xy\", render_points_as_spheres=True, clim=[-2.5, 2.5], cmap=cmc.vik_r)"
   ]
  }
 ],
 "metadata": {
  "jupytext": {
   "encoding": "# -*- coding: utf-8 -*-",
   "formats": "ipynb,py:hydrogen"
  },
  "kernelspec": {
   "display_name": "Python 3 (ipykernel)",
   "language": "python",
   "name": "python3"
  },
  "language_info": {
   "codemirror_mode": {
    "name": "ipython",
    "version": 3
   },
   "file_extension": ".py",
   "mimetype": "text/x-python",
   "name": "python",
   "nbconvert_exporter": "python",
   "pygments_lexer": "ipython3",
   "version": "3.9.7"
  }
 },
 "nbformat": 4,
 "nbformat_minor": 5
}
